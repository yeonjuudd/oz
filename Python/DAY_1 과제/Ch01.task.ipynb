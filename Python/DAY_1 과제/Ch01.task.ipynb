{
 "cells": [
  {
   "cell_type": "markdown",
   "metadata": {},
   "source": [
    "<span style=\"font-size:100%\">\n",
    "\n",
    "수업은 모두 열심히 들으셨나요?\n",
    "\n",
    "간혹 강의에서 언급되지 않은 내용이 문제로 나올 수 있습니다.<br>\n",
    "그럴땐 강의 내용 외 문제는 구글링을 통해 해결해주세요<br></span>\n",
    "<span style=\"font-size:80%\">\n",
    "(구글링 또한 개발자가 갖쳐야할 역량 중에 하나랍니다 😊)\n",
    "</span>\n",
    "\n",
    "---"
   ]
  },
  {
   "cell_type": "markdown",
   "metadata": {},
   "source": [
    "<span style=\"font-size:80%\">[문제1]<br><br></span>\n",
    "```인터프리트 방식에 대해 설명하고 2개 이상의 장점을 설명해주세요```"
   ]
  },
  {
   "cell_type": "markdown",
   "metadata": {},
   "source": [
    "<span style=\"color:red\">답변</span>"
   ]
  },
  {
   "cell_type": "markdown",
   "metadata": {},
   "source": [
    "인터프리트 방식은 우리의 명령을 한 줄씩 해석하는 방식입니다.\n",
    "인터프리터는 소스 코드를 직접 해석하고 실행하므로, 컴파일 과정(소스 코드를 기계어로 번역하는 과정)이 필요하지 않습니다. 이는 개발 과정에서 빠른 피드백을 받을 수 있다는 장점이 있습니다. 또한 동적 타이핑을 지원하여 변수의 타입을 명시하지 않아도 되므로 코드 작성이 간결해집니다. 대표적인 인터프리터 언어로는 Python, JavaScript, Ruby 등이 있습니다."
   ]
  },
  {
   "cell_type": "markdown",
   "metadata": {},
   "source": [
    "---"
   ]
  },
  {
   "cell_type": "markdown",
   "metadata": {},
   "source": [
    "<span style=\"font-size:80%\">[문제2]<br><br></span>\n",
    "```동적 타입 방식의 장점과 단점을 간략히 설명해주세요```"
   ]
  },
  {
   "cell_type": "markdown",
   "metadata": {},
   "source": [
    "<span style=\"color:red\">답변</span>"
   ]
  },
  {
   "cell_type": "markdown",
   "metadata": {},
   "source": [
    "장점\n",
    "유연성: 실행 시간에 타입이 결정되기 때문에 동적으로 변수의 타입을 변경할 수 있어 유연성이 높습니다.\n",
    "간단한 문법: 타입 선언이 없거나 간소화되어 코드가 간결할 수 있습니다.\n",
    "빠른 프로토타이핑: 초기 개발 속도가 빠르며 코드 작성이 간단할 수 있습니다.\n",
    "\n",
    "단점\n",
    "런타임 에러: 실행 중에 타입 관련 오류가 발생할 수 있으며, 이는 실행 시간에만 감지됩니다.\n",
    "코드 예측 어려움: 타입 정보가 부족하면 코드를 이해하고 예측하기 어려울 수 있습니다.\n",
    "성능 감소: 동적 타입 언어는 런타임에 타입 체크를 수행하므로 성능이 상대적으로 느릴 수 있습니다.\n"
   ]
  },
  {
   "cell_type": "markdown",
   "metadata": {},
   "source": [
    "---"
   ]
  },
  {
   "cell_type": "markdown",
   "metadata": {},
   "source": [
    "<span style=\"font-size:80%\">[문제3]<br><br></span>\n",
    "```Python으로 정적타입 방식의 코드를 작성할 수 있는 방법을 구글링을 통해 검색 후 설명해주세요```"
   ]
  },
  {
   "cell_type": "markdown",
   "metadata": {},
   "source": [
    "<span style=\"color:red\">답변</span>"
   ]
  },
  {
   "cell_type": "markdown",
   "metadata": {},
   "source": [
    "Python으로 정적타입 방식의 코드를 작성할 수 있는 방법은 타입 어노테이션(또는 힌트)입니다. 타입 어노테이션(type annotation)은 파이썬 코드에서 변수, 함수 인자, 그리고 반환 값의 기대되는 데이터 타입을 명시적으로 선언하는 방법입니다. "
   ]
  },
  {
   "cell_type": "markdown",
   "metadata": {},
   "source": [
    "---"
   ]
  },
  {
   "cell_type": "markdown",
   "metadata": {},
   "source": [
    "<span style=\"font-size:80%\">[문제4]<br><br></span>\n",
    "```프로세스와 스레드의 차이점을 설명해주세요```"
   ]
  },
  {
   "cell_type": "markdown",
   "metadata": {},
   "source": [
    "<span style=\"color:red\">답변</span>"
   ]
  },
  {
   "cell_type": "markdown",
   "metadata": {},
   "source": [
    "프로세스는 독립된 메모리 공간에서 실행되지만, 스레드는 프로세스 내에서 메모리를 공유하며 실행됩니다."
   ]
  },
  {
   "cell_type": "markdown",
   "metadata": {},
   "source": [
    "---"
   ]
  },
  {
   "cell_type": "markdown",
   "metadata": {},
   "source": [
    "<span style=\"font-size:80%\">[문제5]<br><br></span>\n",
    "```Python 2버전대와 3버전대의 차이를 성명해주세요```"
   ]
  },
  {
   "cell_type": "markdown",
   "metadata": {},
   "source": [
    "<span style=\"color:red\">답변</span>"
   ]
  },
  {
   "cell_type": "markdown",
   "metadata": {},
   "source": [
    "Python 2 : \n",
    "PRINT가 함수가 아니라 ()없이 \"\"만으로도 사용 할 수 있었습니다.\n",
    "LongType, IntType이 따로 있었습니다.\n",
    "int/int 2/3은 0(int)으로 나옵니다.\n",
    "string type unicode type 따로 있었습니다.\n",
    "Python 3 : \n",
    "PRINT가 함수가 되면서 ()는 필수가 되었습니다.\n",
    "LongType은 사라지고 IntType로 통합되었습니다.\n",
    "int/int 2/3은 0.66666 (float)으로 나옵니다.\n",
    "String type으로 통일, bytes 타입이 생겼습니다.\n",
    "\n"
   ]
  },
  {
   "cell_type": "markdown",
   "metadata": {},
   "source": [
    "---"
   ]
  },
  {
   "cell_type": "markdown",
   "metadata": {},
   "source": [
    "<span style=\"font-size:80%\">[문제6]<br><br></span>\n",
    "```Python에서 메모리 관리는 어떻게 이루어지는지 설명해주세요```"
   ]
  },
  {
   "cell_type": "markdown",
   "metadata": {},
   "source": [
    "<span style=\"color:red\">답변</span>"
   ]
  },
  {
   "cell_type": "markdown",
   "metadata": {},
   "source": [
    "가비지커렉션 기능으로 관리합니다."
   ]
  }
 ],
 "metadata": {
  "language_info": {
   "name": "python"
  }
 },
 "nbformat": 4,
 "nbformat_minor": 2
}
